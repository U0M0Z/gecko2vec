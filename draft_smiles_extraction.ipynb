{
 "cells": [
  {
   "cell_type": "code",
   "execution_count": 1,
   "metadata": {},
   "outputs": [],
   "source": [
    "import os\n",
    "import sys\n",
    "import re\n",
    "import glob"
   ]
  },
  {
   "cell_type": "code",
   "execution_count": 2,
   "metadata": {},
   "outputs": [],
   "source": [
    "import pandas as pd \n",
    "import numpy as np"
   ]
  },
  {
   "cell_type": "code",
   "execution_count": 3,
   "metadata": {},
   "outputs": [],
   "source": [
    "def cell_to_SMILES(df_cell):\n",
    "    \n",
    "    GECKO_smiles = []\n",
    "    \n",
    "    for item in df_cell:\n",
    "        \n",
    "        try:\n",
    "            nome = item.split()[1]\n",
    "            gecko_id = item.split()[0]\n",
    "            GECKO_smiles.append(nome)\n",
    "        except:\n",
    "            break\n",
    "            \n",
    "    return GECKO_smiles\n",
    "\n",
    "\n",
    "\n",
    "def GECKO_to_list(filename):\n",
    "    \n",
    "    df_smiles = pd.read_csv(filename, header = None)\n",
    "    species_list = df_smiles.apply(lambda x: cell_to_SMILES(x))[0]\n",
    "    \n",
    "    return species_list"
   ]
  },
  {
   "cell_type": "markdown",
   "metadata": {},
   "source": [
    "### Real code"
   ]
  },
  {
   "cell_type": "code",
   "execution_count": null,
   "metadata": {},
   "outputs": [],
   "source": [
    "GECKO_smiles = []\n",
    "\n",
    "for file in os.listdir(sim_dir):\n",
    "    if file.endswith(\".dict\"):\n",
    "        file_smiles_list = GECKO_to_list(file)\n",
    "        \n",
    "        GECKO_smiles = list(set(GECKO_smiles) | set(file_smiles_list))"
   ]
  },
  {
   "cell_type": "code",
   "execution_count": null,
   "metadata": {},
   "outputs": [],
   "source": []
  },
  {
   "cell_type": "code",
   "execution_count": 5,
   "metadata": {},
   "outputs": [],
   "source": [
    "sim_dir = os.getcwd()"
   ]
  },
  {
   "cell_type": "code",
   "execution_count": 6,
   "metadata": {},
   "outputs": [
    {
     "data": {
      "text/plain": [
       "'/Users/tommaso/Desktop/Mol2vec'"
      ]
     },
     "execution_count": 6,
     "metadata": {},
     "output_type": "execute_result"
    }
   ],
   "source": [
    "sim_dir"
   ]
  },
  {
   "cell_type": "code",
   "execution_count": 7,
   "metadata": {},
   "outputs": [],
   "source": [
    "df_beta = pd.read_csv('b_pinene.dict', header = None)\n",
    "df_alpha = pd.read_csv('a_pinene.dict', header = None)\n",
    "df_iso = pd.read_csv('iso_nonox.dict', header = None)\n",
    "df_limonene = pd.read_csv('limonene.dict', header = None)\n",
    "df_terp = pd.read_csv('terpineol_a.dict', header = None)"
   ]
  },
  {
   "cell_type": "code",
   "execution_count": 8,
   "metadata": {},
   "outputs": [],
   "source": [
    "bp_list = df_beta.apply(lambda x: cell_to_SMILES(x))[0]\n",
    "ap_list = df_alpha.apply(lambda x: cell_to_SMILES(x))[0]\n",
    "isoprene_list = df_iso.apply(lambda x: cell_to_SMILES(x))[0]\n",
    "limonene_list = df_limonene.apply(lambda x: cell_to_SMILES(x))[0]\n",
    "terpineol_list = df_terp.apply(lambda x: cell_to_SMILES(x))[0]"
   ]
  },
  {
   "cell_type": "code",
   "execution_count": 9,
   "metadata": {},
   "outputs": [
    {
     "name": "stdout",
     "output_type": "stream",
     "text": [
      "77762\n",
      "83627\n",
      "1900\n",
      "74903\n",
      "35817\n"
     ]
    },
    {
     "data": {
      "text/plain": [
       "274009"
      ]
     },
     "execution_count": 9,
     "metadata": {},
     "output_type": "execute_result"
    }
   ],
   "source": [
    "print(len(bp_list))\n",
    "print(len(ap_list))\n",
    "print(len(isoprene_list))\n",
    "print(len(limonene_list))\n",
    "print(len(terpineol_list))\n",
    "\n",
    "len(bp_list) + len(ap_list) + len(isoprene_list) + len(limonene_list) + len(terpineol_list)"
   ]
  },
  {
   "cell_type": "code",
   "execution_count": 10,
   "metadata": {},
   "outputs": [],
   "source": [
    "tot_species = list(set(bp_list) | set(ap_list) | set(isoprene_list) | set(limonene_list) | set(terpineol_list))"
   ]
  },
  {
   "cell_type": "code",
   "execution_count": 11,
   "metadata": {},
   "outputs": [
    {
     "data": {
      "text/plain": [
       "229970"
      ]
     },
     "execution_count": 11,
     "metadata": {},
     "output_type": "execute_result"
    }
   ],
   "source": [
    "len(tot_species)"
   ]
  },
  {
   "cell_type": "code",
   "execution_count": 12,
   "metadata": {},
   "outputs": [],
   "source": [
    "df_raw_1 = pd.read_csv('iso_nonox.mech', header = None)"
   ]
  },
  {
   "cell_type": "code",
   "execution_count": 13,
   "metadata": {},
   "outputs": [
    {
     "data": {
      "text/plain": [
       "'GH2              /1./'"
      ]
     },
     "execution_count": 13,
     "metadata": {},
     "output_type": "execute_result"
    }
   ],
   "source": [
    "df_raw_1.loc[3][0]"
   ]
  },
  {
   "cell_type": "code",
   "execution_count": 14,
   "metadata": {},
   "outputs": [
    {
     "data": {
      "text/plain": [
       "['mech_to_text.py',\n",
       " 'terpineol_a.mech',\n",
       " 'a_pinene.dict',\n",
       " 'GECKO_comp_to_SMILES.py',\n",
       " 'SMILES_to_MFP.py',\n",
       " 'terpineol_a.dict',\n",
       " 'a_pinene.mech',\n",
       " 'GECKO_comp_to_SMILES_GT.py',\n",
       " 'Untitled.ipynb',\n",
       " 'iso_nonox.dict',\n",
       " 'b_pinene.mech',\n",
       " 'limonene.mech',\n",
       " 'limonene.dict',\n",
       " 'b_pinene.dict',\n",
       " 'iso_nonox.mech',\n",
       " 'prova_text_orig.txt',\n",
       " 'prova_excel.xlsx',\n",
       " 'prova_text_MFP.txt',\n",
       " 'prova_text.txt',\n",
       " '34ppb_lowNOx_species_dictionary_DODECANE_GAS.xlsx',\n",
       " '.ipynb_checkpoints',\n",
       " '34ppb_lowNOx_conc_species_DODECANE_GAS.xlsx']"
      ]
     },
     "execution_count": 14,
     "metadata": {},
     "output_type": "execute_result"
    }
   ],
   "source": [
    "files = os.listdir(sim_dir)\n",
    "files"
   ]
  },
  {
   "cell_type": "code",
   "execution_count": 17,
   "metadata": {},
   "outputs": [],
   "source": [
    "GECKO_smiles = []\n",
    "\n",
    "for file in os.listdir(sim_dir):\n",
    "    if file.endswith(\".dict\"):\n",
    "        file_smiles_list = GECKO_to_list(file)\n",
    "        \n",
    "        GECKO_smiles = list(set(GECKO_smiles) | set(file_smiles_list))\n",
    "        "
   ]
  },
  {
   "cell_type": "code",
   "execution_count": 18,
   "metadata": {},
   "outputs": [
    {
     "data": {
      "text/plain": [
       "229970"
      ]
     },
     "execution_count": 18,
     "metadata": {},
     "output_type": "execute_result"
    }
   ],
   "source": [
    "len(GECKO_smiles)"
   ]
  },
  {
   "cell_type": "code",
   "execution_count": null,
   "metadata": {},
   "outputs": [],
   "source": []
  }
 ],
 "metadata": {
  "kernelspec": {
   "display_name": "Python 3",
   "language": "python",
   "name": "python3"
  },
  "language_info": {
   "codemirror_mode": {
    "name": "ipython",
    "version": 3
   },
   "file_extension": ".py",
   "mimetype": "text/x-python",
   "name": "python",
   "nbconvert_exporter": "python",
   "pygments_lexer": "ipython3",
   "version": "3.7.0"
  }
 },
 "nbformat": 4,
 "nbformat_minor": 4
}
